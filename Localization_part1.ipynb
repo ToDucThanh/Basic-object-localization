{
  "nbformat": 4,
  "nbformat_minor": 0,
  "metadata": {
    "colab": {
      "name": "Localization",
      "provenance": [],
      "collapsed_sections": []
    },
    "kernelspec": {
      "name": "python3",
      "display_name": "Python 3"
    },
    "language_info": {
      "name": "python"
    },
    "accelerator": "GPU"
  },
  "cells": [
    {
      "cell_type": "code",
      "metadata": {
        "id": "-yMFrXu8RrjW"
      },
      "source": [
        "import numpy as np\n",
        "import matplotlib.pyplot as plt\n",
        "from tensorflow.keras.applications.vgg16 import VGG16\n",
        "from tensorflow.keras.layers import Flatten, Dense \n",
        "from tensorflow.keras.models import Model \n",
        "from tensorflow.keras.optimizers import Adam, SGD"
      ],
      "execution_count": 1,
      "outputs": []
    },
    {
      "cell_type": "code",
      "metadata": {
        "id": "GZgd9Wb8SWnT",
        "colab": {
          "base_uri": "https://localhost:8080/"
        },
        "outputId": "274454fa-466d-4ed4-a357-9f16a8bc85f9"
      },
      "source": [
        "vgg = VGG16(input_shape=(100, 100, 3), include_top=False, weights='imagenet')\n",
        "vgg.summary()"
      ],
      "execution_count": 2,
      "outputs": [
        {
          "output_type": "stream",
          "name": "stdout",
          "text": [
            "Model: \"vgg16\"\n",
            "_________________________________________________________________\n",
            "Layer (type)                 Output Shape              Param #   \n",
            "=================================================================\n",
            "input_1 (InputLayer)         [(None, 100, 100, 3)]     0         \n",
            "_________________________________________________________________\n",
            "block1_conv1 (Conv2D)        (None, 100, 100, 64)      1792      \n",
            "_________________________________________________________________\n",
            "block1_conv2 (Conv2D)        (None, 100, 100, 64)      36928     \n",
            "_________________________________________________________________\n",
            "block1_pool (MaxPooling2D)   (None, 50, 50, 64)        0         \n",
            "_________________________________________________________________\n",
            "block2_conv1 (Conv2D)        (None, 50, 50, 128)       73856     \n",
            "_________________________________________________________________\n",
            "block2_conv2 (Conv2D)        (None, 50, 50, 128)       147584    \n",
            "_________________________________________________________________\n",
            "block2_pool (MaxPooling2D)   (None, 25, 25, 128)       0         \n",
            "_________________________________________________________________\n",
            "block3_conv1 (Conv2D)        (None, 25, 25, 256)       295168    \n",
            "_________________________________________________________________\n",
            "block3_conv2 (Conv2D)        (None, 25, 25, 256)       590080    \n",
            "_________________________________________________________________\n",
            "block3_conv3 (Conv2D)        (None, 25, 25, 256)       590080    \n",
            "_________________________________________________________________\n",
            "block3_pool (MaxPooling2D)   (None, 12, 12, 256)       0         \n",
            "_________________________________________________________________\n",
            "block4_conv1 (Conv2D)        (None, 12, 12, 512)       1180160   \n",
            "_________________________________________________________________\n",
            "block4_conv2 (Conv2D)        (None, 12, 12, 512)       2359808   \n",
            "_________________________________________________________________\n",
            "block4_conv3 (Conv2D)        (None, 12, 12, 512)       2359808   \n",
            "_________________________________________________________________\n",
            "block4_pool (MaxPooling2D)   (None, 6, 6, 512)         0         \n",
            "_________________________________________________________________\n",
            "block5_conv1 (Conv2D)        (None, 6, 6, 512)         2359808   \n",
            "_________________________________________________________________\n",
            "block5_conv2 (Conv2D)        (None, 6, 6, 512)         2359808   \n",
            "_________________________________________________________________\n",
            "block5_conv3 (Conv2D)        (None, 6, 6, 512)         2359808   \n",
            "_________________________________________________________________\n",
            "block5_pool (MaxPooling2D)   (None, 3, 3, 512)         0         \n",
            "=================================================================\n",
            "Total params: 14,714,688\n",
            "Trainable params: 14,714,688\n",
            "Non-trainable params: 0\n",
            "_________________________________________________________________\n"
          ]
        }
      ]
    },
    {
      "cell_type": "code",
      "metadata": {
        "colab": {
          "base_uri": "https://localhost:8080/"
        },
        "id": "zFiiulWiTTED",
        "outputId": "c5475ffd-f2bb-4ade-ca86-c9c3441812da"
      },
      "source": [
        "loss = ['binary_crossentropy', 'mse']\n",
        "MODEL = {}\n",
        "for l in loss:\n",
        "  x = Flatten()(vgg.output)\n",
        "  x = Dense(4, activation='sigmoid')(x)\n",
        "  model = Model(vgg.input, x)\n",
        "  model.summary()\n",
        "  if l == 'binary_crossentropy':\n",
        "    model.compile(optimizer=Adam(learning_rate=0.001), loss=l)\n",
        "    MODEL[l] = model\n",
        "  if l == 'mse':\n",
        "    model.compile(optimizer=SGD(learning_rate=0.01), loss=l)\n",
        "    MODEL[l] = model"
      ],
      "execution_count": 3,
      "outputs": [
        {
          "output_type": "stream",
          "name": "stdout",
          "text": [
            "Model: \"model\"\n",
            "_________________________________________________________________\n",
            "Layer (type)                 Output Shape              Param #   \n",
            "=================================================================\n",
            "input_1 (InputLayer)         [(None, 100, 100, 3)]     0         \n",
            "_________________________________________________________________\n",
            "block1_conv1 (Conv2D)        (None, 100, 100, 64)      1792      \n",
            "_________________________________________________________________\n",
            "block1_conv2 (Conv2D)        (None, 100, 100, 64)      36928     \n",
            "_________________________________________________________________\n",
            "block1_pool (MaxPooling2D)   (None, 50, 50, 64)        0         \n",
            "_________________________________________________________________\n",
            "block2_conv1 (Conv2D)        (None, 50, 50, 128)       73856     \n",
            "_________________________________________________________________\n",
            "block2_conv2 (Conv2D)        (None, 50, 50, 128)       147584    \n",
            "_________________________________________________________________\n",
            "block2_pool (MaxPooling2D)   (None, 25, 25, 128)       0         \n",
            "_________________________________________________________________\n",
            "block3_conv1 (Conv2D)        (None, 25, 25, 256)       295168    \n",
            "_________________________________________________________________\n",
            "block3_conv2 (Conv2D)        (None, 25, 25, 256)       590080    \n",
            "_________________________________________________________________\n",
            "block3_conv3 (Conv2D)        (None, 25, 25, 256)       590080    \n",
            "_________________________________________________________________\n",
            "block3_pool (MaxPooling2D)   (None, 12, 12, 256)       0         \n",
            "_________________________________________________________________\n",
            "block4_conv1 (Conv2D)        (None, 12, 12, 512)       1180160   \n",
            "_________________________________________________________________\n",
            "block4_conv2 (Conv2D)        (None, 12, 12, 512)       2359808   \n",
            "_________________________________________________________________\n",
            "block4_conv3 (Conv2D)        (None, 12, 12, 512)       2359808   \n",
            "_________________________________________________________________\n",
            "block4_pool (MaxPooling2D)   (None, 6, 6, 512)         0         \n",
            "_________________________________________________________________\n",
            "block5_conv1 (Conv2D)        (None, 6, 6, 512)         2359808   \n",
            "_________________________________________________________________\n",
            "block5_conv2 (Conv2D)        (None, 6, 6, 512)         2359808   \n",
            "_________________________________________________________________\n",
            "block5_conv3 (Conv2D)        (None, 6, 6, 512)         2359808   \n",
            "_________________________________________________________________\n",
            "block5_pool (MaxPooling2D)   (None, 3, 3, 512)         0         \n",
            "_________________________________________________________________\n",
            "flatten (Flatten)            (None, 4608)              0         \n",
            "_________________________________________________________________\n",
            "dense (Dense)                (None, 4)                 18436     \n",
            "=================================================================\n",
            "Total params: 14,733,124\n",
            "Trainable params: 14,733,124\n",
            "Non-trainable params: 0\n",
            "_________________________________________________________________\n",
            "Model: \"model_1\"\n",
            "_________________________________________________________________\n",
            "Layer (type)                 Output Shape              Param #   \n",
            "=================================================================\n",
            "input_1 (InputLayer)         [(None, 100, 100, 3)]     0         \n",
            "_________________________________________________________________\n",
            "block1_conv1 (Conv2D)        (None, 100, 100, 64)      1792      \n",
            "_________________________________________________________________\n",
            "block1_conv2 (Conv2D)        (None, 100, 100, 64)      36928     \n",
            "_________________________________________________________________\n",
            "block1_pool (MaxPooling2D)   (None, 50, 50, 64)        0         \n",
            "_________________________________________________________________\n",
            "block2_conv1 (Conv2D)        (None, 50, 50, 128)       73856     \n",
            "_________________________________________________________________\n",
            "block2_conv2 (Conv2D)        (None, 50, 50, 128)       147584    \n",
            "_________________________________________________________________\n",
            "block2_pool (MaxPooling2D)   (None, 25, 25, 128)       0         \n",
            "_________________________________________________________________\n",
            "block3_conv1 (Conv2D)        (None, 25, 25, 256)       295168    \n",
            "_________________________________________________________________\n",
            "block3_conv2 (Conv2D)        (None, 25, 25, 256)       590080    \n",
            "_________________________________________________________________\n",
            "block3_conv3 (Conv2D)        (None, 25, 25, 256)       590080    \n",
            "_________________________________________________________________\n",
            "block3_pool (MaxPooling2D)   (None, 12, 12, 256)       0         \n",
            "_________________________________________________________________\n",
            "block4_conv1 (Conv2D)        (None, 12, 12, 512)       1180160   \n",
            "_________________________________________________________________\n",
            "block4_conv2 (Conv2D)        (None, 12, 12, 512)       2359808   \n",
            "_________________________________________________________________\n",
            "block4_conv3 (Conv2D)        (None, 12, 12, 512)       2359808   \n",
            "_________________________________________________________________\n",
            "block4_pool (MaxPooling2D)   (None, 6, 6, 512)         0         \n",
            "_________________________________________________________________\n",
            "block5_conv1 (Conv2D)        (None, 6, 6, 512)         2359808   \n",
            "_________________________________________________________________\n",
            "block5_conv2 (Conv2D)        (None, 6, 6, 512)         2359808   \n",
            "_________________________________________________________________\n",
            "block5_conv3 (Conv2D)        (None, 6, 6, 512)         2359808   \n",
            "_________________________________________________________________\n",
            "block5_pool (MaxPooling2D)   (None, 3, 3, 512)         0         \n",
            "_________________________________________________________________\n",
            "flatten_1 (Flatten)          (None, 4608)              0         \n",
            "_________________________________________________________________\n",
            "dense_1 (Dense)              (None, 4)                 18436     \n",
            "=================================================================\n",
            "Total params: 14,733,124\n",
            "Trainable params: 14,733,124\n",
            "Non-trainable params: 0\n",
            "_________________________________________________________________\n"
          ]
        }
      ]
    },
    {
      "cell_type": "code",
      "metadata": {
        "id": "mB2Q8Tc0T0g5"
      },
      "source": [
        "def generate_data(batch_size):\n",
        "  X = np.zeros((batch_size, 100, 100, 3))\n",
        "  y = np.zeros((batch_size, 4))\n",
        "\n",
        "  for i in range(batch_size):\n",
        "    row0 = np.random.randint(0, 95)\n",
        "    col0 = np.random.randint(0, 95)\n",
        "    row1 = np.random.randint(row0, 100)\n",
        "    col1 = np.random.randint(col0, 100)\n",
        "    X[i, row0:row1, col0:col1] = 1\n",
        "    y[i, 0] = row0/100\n",
        "    y[i, 1] = col0/100\n",
        "    y[i, 2] = (row1 - row0)/100\n",
        "    y[i, 3] = (col1 - col0)/100\n",
        "  return X, y"
      ],
      "execution_count": 4,
      "outputs": []
    },
    {
      "cell_type": "code",
      "metadata": {
        "colab": {
          "base_uri": "https://localhost:8080/",
          "height": 302
        },
        "id": "siwlWYTpXJ8q",
        "outputId": "c3c4db3c-a5d1-4057-edc8-a41ee19919f6"
      },
      "source": [
        "# Test\n",
        "num = 10\n",
        "X, y = generate_data(num)\n",
        "i = np.random.randint(0, num)\n",
        "print(i)\n",
        "print(y[i])\n",
        "_ = plt.imshow(X[i])"
      ],
      "execution_count": 5,
      "outputs": [
        {
          "output_type": "stream",
          "name": "stdout",
          "text": [
            "9\n",
            "[0.63 0.26 0.19 0.49]\n"
          ]
        },
        {
          "output_type": "display_data",
          "data": {
            "image/png": "[encoded data removed]",
            "text/plain": [
              "<Figure size 432x288 with 1 Axes>"
            ]
          },
          "metadata": {
            "needs_background": "light"
          }
        }
      ]
    },
    {
      "cell_type": "code",
      "metadata": {
        "id": "sv5bmvfAaTxY"
      },
      "source": [
        "num_batch = 80\n",
        "def Generator(batch_size=64):\n",
        "  while True:\n",
        "    for _ in range(num_batch):\n",
        "      X, y = generate_data(batch_size=batch_size)\n",
        "      yield X, y"
      ],
      "execution_count": 6,
      "outputs": []
    },
    {
      "cell_type": "code",
      "metadata": {
        "id": "g5OItxzvwfuj"
      },
      "source": [
        "from matplotlib.patches import Rectangle\n",
        "def prediction(model, l):\n",
        "  # Generate random image\n",
        "  X = np.zeros((100, 100, 3))\n",
        "  row0 = np.random.randint(0, 95)\n",
        "  col0 = np.random.randint(0, 95)\n",
        "  row1 = np.random.randint(row0, 100)\n",
        "  col1 = np.random.randint(col0, 100)\n",
        "\n",
        "  X[row0:row1, col0:col1] = 1\n",
        "  x = np.expand_dims(X, 0)\n",
        "  p = model.predict(x)\n",
        "  # Draw the box\n",
        "  fig, ax = plt.subplots(1)\n",
        "  ax.imshow(X)\n",
        "  rect = Rectangle(\n",
        "      (p[0][1]*100, p[0][0]*100),\n",
        "      p[0][3]*100, p[0][2]*100,linewidth=1.5,edgecolor='g',facecolor='none')\n",
        "  ax.add_patch(rect)\n",
        "  plt.title(l)\n",
        "  plt.show()\n",
        "  return p"
      ],
      "execution_count": 7,
      "outputs": []
    },
    {
      "cell_type": "code",
      "metadata": {
        "colab": {
          "base_uri": "https://localhost:8080/"
        },
        "id": "KuzI-KreX5cL",
        "outputId": "8e03317c-e6d0-44ab-9881-1e9b68b3ee03"
      },
      "source": [
        "for l in loss:\n",
        "  MODEL[l].fit(Generator(), steps_per_epoch=80, epochs=8, batch_size=64)\n",
        "  print('Finish model with ' + l)"
      ],
      "execution_count": 8,
      "outputs": [
        {
          "output_type": "stream",
          "name": "stdout",
          "text": [
            "Epoch 1/8\n",
            "80/80 [==============================] - 37s 360ms/step - loss: 0.8667\n",
            "Epoch 2/8\n",
            "80/80 [==============================] - 29s 362ms/step - loss: 0.5141\n",
            "Epoch 3/8\n",
            "80/80 [==============================] - 29s 363ms/step - loss: 0.4967\n",
            "Epoch 4/8\n",
            "80/80 [==============================] - 29s 363ms/step - loss: 0.4962\n",
            "Epoch 5/8\n",
            "80/80 [==============================] - 29s 364ms/step - loss: 0.4953\n",
            "Epoch 6/8\n",
            "80/80 [==============================] - 29s 364ms/step - loss: 0.4938\n",
            "Epoch 7/8\n",
            "80/80 [==============================] - 29s 364ms/step - loss: 0.4927\n",
            "Epoch 8/8\n",
            "80/80 [==============================] - 29s 364ms/step - loss: 0.4916\n",
            "Finish model with binary_crossentropy\n",
            "Epoch 1/8\n",
            "80/80 [==============================] - 30s 361ms/step - loss: 0.0333\n",
            "Epoch 2/8\n",
            "80/80 [==============================] - 29s 361ms/step - loss: 0.0088\n",
            "Epoch 3/8\n",
            "80/80 [==============================] - 29s 361ms/step - loss: 0.0069\n",
            "Epoch 4/8\n",
            "80/80 [==============================] - 29s 361ms/step - loss: 0.0055\n",
            "Epoch 5/8\n",
            "80/80 [==============================] - 29s 362ms/step - loss: 0.0053\n",
            "Epoch 6/8\n",
            "80/80 [==============================] - 29s 361ms/step - loss: 0.0056\n",
            "Epoch 7/8\n",
            "80/80 [==============================] - 29s 361ms/step - loss: 0.0053\n",
            "Epoch 8/8\n",
            "80/80 [==============================] - 29s 361ms/step - loss: 0.0047\n",
            "Finish model with mse\n"
          ]
        }
      ]
    },
    {
      "cell_type": "code",
      "metadata": {
        "colab": {
          "base_uri": "https://localhost:8080/",
          "height": 281
        },
        "id": "iMxvfmtLgAVM",
        "outputId": "b4e50956-b7d8-497a-ef15-a444cfbf4a6d"
      },
      "source": [
        "p = prediction(MODEL[loss[0]], loss[0])"
      ],
      "execution_count": 18,
      "outputs": [
        {
          "output_type": "display_data",
          "data": {
            "image/png": "[encoded data removed]",
            "text/plain": [
              "<Figure size 432x288 with 1 Axes>"
            ]
          },
          "metadata": {
            "needs_background": "light"
          }
        }
      ]
    },
    {
      "cell_type": "code",
      "metadata": {
        "colab": {
          "base_uri": "https://localhost:8080/",
          "height": 281
        },
        "id": "LV4XswChgV1D",
        "outputId": "02a299ae-9ade-4fd6-9622-f18e167b4d1c"
      },
      "source": [
        "p = prediction(MODEL[loss[1]], loss[1])"
      ],
      "execution_count": 25,
      "outputs": [
        {
          "output_type": "display_data",
          "data": {
            "image/png": "[encoded data removed]",
            "text/plain": [
              "<Figure size 432x288 with 1 Axes>"
            ]
          },
          "metadata": {
            "needs_background": "light"
          }
        }
      ]
    }
  ]
}